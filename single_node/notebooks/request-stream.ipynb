{
 "cells": [
  {
   "cell_type": "markdown",
   "id": "2f8a9468",
   "metadata": {},
   "source": [
    "#  vLLM部署function call 测试"
   ]
  },
  {
   "cell_type": "code",
   "execution_count": 1,
   "id": "66b3ee93-e4bd-4c74-a5cd-c538804ac6b9",
   "metadata": {},
   "outputs": [],
   "source": [
    "import json\n",
    "\n",
    "from openai import OpenAI"
   ]
  },
  {
   "cell_type": "code",
   "execution_count": 2,
   "id": "aa8fefed-498e-4d23-b3c5-4c77e5cf169c",
   "metadata": {},
   "outputs": [],
   "source": [
    "def get_current_temperature(location: str, unit: str = \"celsius\"):\n",
    "    \"\"\"Get current temperature at a location.\n",
    "\n",
    "    Args:\n",
    "        location: The location to get the temperature for, in the format \"City, State, Country\".\n",
    "        unit: The unit to return the temperature in. Defaults to \"celsius\". (choices: [\"celsius\", \"fahrenheit\"])\n",
    "\n",
    "    Returns:\n",
    "        the temperature, the location, and the unit in a dict\n",
    "    \"\"\"\n",
    "    return {\n",
    "        \"temperature\": 26.1,\n",
    "        \"location\": location,\n",
    "        \"unit\": unit,\n",
    "    }\n",
    "\n",
    "\n",
    "def get_temperature_date(location: str, date: str, unit: str = \"celsius\"):\n",
    "    \"\"\"Get temperature at a location and date.\n",
    "\n",
    "    Args:\n",
    "        location: The location to get the temperature for, in the format \"City, State, Country\".\n",
    "        date: The date to get the temperature for, in the format \"Year-Month-Day\".\n",
    "        unit: The unit to return the temperature in. Defaults to \"celsius\". (choices: [\"celsius\", \"fahrenheit\"])\n",
    "\n",
    "    Returns:\n",
    "        the temperature, the location, the date and the unit in a dict\n",
    "    \"\"\"\n",
    "    return {\n",
    "        \"temperature\": 25.9,\n",
    "        \"location\": location,\n",
    "        \"date\": date,\n",
    "        \"unit\": unit,\n",
    "    }\n",
    "\n",
    "\n",
    "def get_function_by_name(name):\n",
    "    if name == \"get_current_temperature\":\n",
    "        return get_current_temperature\n",
    "    if name == \"get_temperature_date\":\n",
    "        return get_temperature_date"
   ]
  },
  {
   "cell_type": "code",
   "execution_count": 3,
   "id": "7fe48bae-5c6c-4566-bf20-ba15a4175dd9",
   "metadata": {},
   "outputs": [],
   "source": [
    "tools = [\n",
    "  {\n",
    "    \"type\": \"function\",\n",
    "    \"function\": {\n",
    "      \"name\": \"get_current_temperature\",\n",
    "      \"description\": \"Get current temperature at a location.\",\n",
    "      \"parameters\": {\n",
    "        \"type\": \"object\",\n",
    "        \"properties\": {\n",
    "          \"location\": {\n",
    "            \"type\": \"string\",\n",
    "            \"description\": \"The location to get the temperature for, in the format \\\"City, State, Country\\\".\"\n",
    "          },\n",
    "          \"unit\": {\n",
    "            \"type\": \"string\",\n",
    "            \"enum\": [\n",
    "              \"celsius\",\n",
    "              \"fahrenheit\"\n",
    "            ],\n",
    "            \"description\": \"The unit to return the temperature in. Defaults to \\\"celsius\\\".\"\n",
    "          }\n",
    "        },\n",
    "        \"required\": [\n",
    "          \"location\"\n",
    "        ]\n",
    "      }\n",
    "    }\n",
    "  },\n",
    "  {\n",
    "    \"type\": \"function\",\n",
    "    \"function\": {\n",
    "      \"name\": \"get_temperature_date\",\n",
    "      \"description\": \"Get temperature at a location and date.\",\n",
    "      \"parameters\": {\n",
    "        \"type\": \"object\",\n",
    "        \"properties\": {\n",
    "          \"location\": {\n",
    "            \"type\": \"string\",\n",
    "            \"description\": \"The location to get the temperature for, in the format \\\"City, State, Country\\\".\"\n",
    "          },\n",
    "          \"date\": {\n",
    "            \"type\": \"string\",\n",
    "            \"description\": \"The date to get the temperature for, in the format \\\"Year-Month-Day\\\".\"\n",
    "          },\n",
    "          \"unit\": {\n",
    "            \"type\": \"string\",\n",
    "            \"enum\": [\n",
    "              \"celsius\",\n",
    "              \"fahrenheit\"\n",
    "            ],\n",
    "            \"description\": \"The unit to return the temperature in. Defaults to \\\"celsius\\\".\"\n",
    "          }\n",
    "        },\n",
    "        \"required\": [\n",
    "          \"location\",\n",
    "          \"date\"\n",
    "        ]\n",
    "      }\n",
    "    }\n",
    "  }\n",
    "]\n"
   ]
  },
  {
   "cell_type": "code",
   "execution_count": 83,
   "id": "c2ccd616-1841-474d-a890-994b2fdfe2f0",
   "metadata": {},
   "outputs": [],
   "source": [
    "# 不使用慢思考\n",
    "messages = [\n",
    "    {\"role\": \"system\", \"content\": \"You are Qwen, created by Alibaba Cloud. You are a helpful assistant.\\n\\nCurrent Date: 2024-09-30\"},\n",
    "    {\"role\": \"user\",  \"content\": \"What's the temperature in San Francisco now? How about tomorrow? /no_think\"}\n",
    "]\n",
    "\n",
    "messages = [\n",
    "    {\"role\": \"system\", \"content\": \"You are Qwen, created by Alibaba Cloud. You are a helpful assistant.\\n\\nCurrent Date: 2024-09-30\"},\n",
    "    {\"role\": \"user\",  \"content\": \"What's the temperature in San Francisco now? /no_think\"}\n",
    "]\n",
    "\n",
    "# 慢思考\n",
    "# messages = [\n",
    "#     {\"role\": \"system\", \"content\": \"You are Qwen, created by Alibaba Cloud. You are a helpful assistant.\\n\\nCurrent Date: 2024-09-30\"},\n",
    "#     {\"role\": \"user\",  \"content\": \"What's the temperature in San Francisco now? How about tomorrow?\"}\n",
    "# ]"
   ]
  },
  {
   "cell_type": "code",
   "execution_count": 84,
   "id": "cf530803-e5fc-4e18-b505-3c0537a6b92b",
   "metadata": {},
   "outputs": [],
   "source": [
    "functions = [tool[\"function\"] for tool in tools]\n"
   ]
  },
  {
   "cell_type": "code",
   "execution_count": 85,
   "id": "76b30117-f636-4dc9-a68c-8d7f436db757",
   "metadata": {},
   "outputs": [],
   "source": [
    "openai_api_key = \"EMPTY\"\n",
    "openai_api_base = \"http://192.168.11.65:18083/v1\"\n",
    "\n",
    "client = OpenAI(\n",
    "    api_key=openai_api_key,\n",
    "    base_url=openai_api_base,\n",
    ")\n",
    "\n",
    "model_name = \"qwen3-8b\""
   ]
  },
  {
   "cell_type": "code",
   "execution_count": 102,
   "id": "bf6276de-a827-4071-b3b7-288ef04d90bc",
   "metadata": {},
   "outputs": [],
   "source": [
    "response = client.chat.completions.create(\n",
    "    model=model_name,\n",
    "    messages=messages,\n",
    "    tools=tools,\n",
    "    temperature=0.7,\n",
    "    top_p=0.8,\n",
    "    max_tokens=512,\n",
    "    extra_body={\n",
    "        \"repetition_penalty\": 1.05,\n",
    "    },\n",
    "    stream=True\n",
    ")"
   ]
  },
  {
   "cell_type": "code",
   "execution_count": 103,
   "id": "b7085a6e-cec3-4472-8263-24f7e2af39dc",
   "metadata": {},
   "outputs": [],
   "source": [
    "# for chunk in response:\n",
    "#     #print(chunk.choices[0].delta.content or \"\", end=\"\")\n",
    "#     content = chunk.choices[0]\n",
    "    \n",
    "#     print(content)\n"
   ]
  },
  {
   "cell_type": "code",
   "execution_count": 104,
   "id": "f7ad7684-115c-460f-ab85-e147dce57976",
   "metadata": {},
   "outputs": [],
   "source": [
    "def extract_reasoning_and_calls(chunks: list):\n",
    "    reasoning_content = \"\"\n",
    "    tool_call_idx = -1\n",
    "    arguments = []\n",
    "    function_names = []\n",
    "    tool_call_id =[]\n",
    "    \n",
    "    for chunk in chunks:\n",
    "        if chunk.choices[0].delta.tool_calls:\n",
    "            tool_call = chunk.choices[0].delta.tool_calls[0]\n",
    "            if tool_call.index != tool_call_idx:\n",
    "                tool_call_idx = chunk.choices[0].delta.tool_calls[0].index\n",
    "                arguments.append(\"\")\n",
    "                function_names.append(\"\")\n",
    "\n",
    "            if tool_call.id:\n",
    "                tool_call_id.append(tool_call.id)\n",
    "                \n",
    "            if tool_call.function:\n",
    "                if tool_call.function.name:\n",
    "                    function_names[tool_call_idx] = tool_call.function.name\n",
    "\n",
    "                if tool_call.function.arguments:\n",
    "                    arguments[tool_call_idx] += tool_call.function.arguments\n",
    "        else:\n",
    "            if hasattr(chunk.choices[0].delta, \"reasoning_content\"):\n",
    "                reasoning_content += chunk.choices[0].delta.reasoning_content\n",
    "    return tool_call_id, function_names, arguments, reasoning_content"
   ]
  },
  {
   "cell_type": "code",
   "execution_count": 105,
   "id": "cd5d9f0b-2dfd-4a10-8717-4aaa1b5f73ff",
   "metadata": {},
   "outputs": [
    {
     "data": {
      "text/plain": [
       "(['chatcmpl-tool-c8c13129ffdd412680c8e6074747b423'],\n",
       " ['get_current_temperature'],\n",
       " ['{\"location\": \"San Francisco, California, USA\"}'],\n",
       " '')"
      ]
     },
     "execution_count": 105,
     "metadata": {},
     "output_type": "execute_result"
    }
   ],
   "source": [
    "tool_call_id, function_names, arguments, reasoning_content =extract_reasoning_and_calls(response)\n",
    "tool_call_id, function_names, arguments, reasoning_content"
   ]
  },
  {
   "cell_type": "code",
   "execution_count": 87,
   "id": "e513bc56-3490-4daf-9da5-909df77c6265",
   "metadata": {},
   "outputs": [
    {
     "name": "stdout",
     "output_type": "stream",
     "text": [
      "get_temperature_date chatcmpl-tool-63996bd776ad4aee901e775132b1fd3e {\"location\": \"San Francisco, California, USA\", \"date\": \"2024-09-31\"}\n"
     ]
    }
   ],
   "source": [
    "tool_name = []\n",
    "tool_id = []\n",
    "arguments = []\n",
    "tool_call_idx = -1\n",
    "for chunk in response:\n",
    "    content = chunk.choices[0]\n",
    "    \n",
    "    if chunk.choices[0].delta.tool_calls:\n",
    "        tool_call = chunk.choices[0].delta.tool_calls[0]\n",
    "        if tool_call.index != tool_call_idx:\n",
    "            # if tool_call_idx >= 0:\n",
    "            #     print(f\"streamed tool call arguments: \"\n",
    "            #           f\"{arguments[tool_call_idx]}\")\n",
    "            tool_call_idx = chunk.choices[0].delta.tool_calls[0].index\n",
    "            arguments.append(\"\")\n",
    "        if tool_call.id:\n",
    "            tool_id.append(tool_call.id)\n",
    "\n",
    "        if tool_call.function:\n",
    "            if tool_call.function.name:\n",
    "                tool_name.append(tool_call.function.name)\n",
    "\n",
    "            if tool_call.function.arguments:\n",
    "                arguments[tool_call_idx] += tool_call.function.arguments\n",
    "    \n",
    "    if content.finish_reason == \"tool_calls\":\n",
    "        \n",
    "        for tool, id, argument in zip(tool_name, tool_id, arguments):\n",
    "            print(tool_name1, tool_id1, arguments1)\n",
    "        # for i in range(len(tool_name)):\n",
    "        #     print(tool_name[i])\n",
    "        #     print(tool_id[i])\n",
    "        #     print(arguments[i])"
   ]
  },
  {
   "cell_type": "code",
   "execution_count": 74,
   "id": "f1231bcd-c616-49d2-a900-eb4846a4f3b1",
   "metadata": {},
   "outputs": [
    {
     "data": {
      "text/plain": [
       "(['{\"location\": \"San Francisco, California, USA\"}',\n",
       "  '{\"location\": \"San Francisco, California, USA\", \"date\": \"2024-09-31\"}'],\n",
       " ['get_current_temperature', 'get_temperature_date'],\n",
       " ['chatcmpl-tool-fcfb0eec5d6649169641b52c839ace67',\n",
       "  'chatcmpl-tool-ced59f49f6414dd68298cbe6fb099229'])"
      ]
     },
     "execution_count": 74,
     "metadata": {},
     "output_type": "execute_result"
    }
   ],
   "source": [
    "arguments, tool_name, tool_id"
   ]
  },
  {
   "cell_type": "code",
   "execution_count": null,
   "id": "fe87dc6e",
   "metadata": {},
   "outputs": [],
   "source": [
    "messages.append(response.choices[0].message.model_dump())"
   ]
  },
  {
   "cell_type": "code",
   "execution_count": null,
   "id": "30336325",
   "metadata": {},
   "outputs": [],
   "source": [
    "messages"
   ]
  },
  {
   "cell_type": "code",
   "execution_count": null,
   "id": "e9ab600c",
   "metadata": {},
   "outputs": [],
   "source": [
    "if tool_calls := response.choices[0].message.model_dump().get(\"tool_calls\", None):\n",
    "    for tool_call in tool_calls:\n",
    "        fn_name = tool_call[\"function\"][\"name\"]\n",
    "        fn_args = json.loads(tool_call[\"function\"][\"arguments\"])\n",
    "        \n",
    "        # 假设有函数库 get_function_by_name\n",
    "        fn_result = json.dumps(get_function_by_name(fn_name)(**fn_args))\n",
    "        \n",
    "        messages.append({\n",
    "            \"role\": \"tool\",\n",
    "            \"content\": fn_result,\n",
    "            \"tool_call_id\": tool_call[\"id\"]\n",
    "        })"
   ]
  },
  {
   "cell_type": "code",
   "execution_count": null,
   "id": "c5fd3251",
   "metadata": {},
   "outputs": [],
   "source": [
    "messages"
   ]
  },
  {
   "cell_type": "code",
   "execution_count": null,
   "id": "50a5fe63-a293-4282-8bfc-b2aa2c5e4658",
   "metadata": {},
   "outputs": [],
   "source": [
    "messagess = [\n",
    "    {'role': 'system', 'content': 'You are Qwen, created by Alibaba Cloud. You are a helpful assistant.\\n\\nCurrent Date: 2024-09-30'},\n",
    "    {'role': 'user', 'content': \"What's the temperature in San Francisco now? How about tomorrow?\"},\n",
    "    {'role': 'assistant', 'content': None, 'function_call': None, 'tool_calls': [\n",
    "        {'id': 'chatcmpl-tool-924d705adb044ff88e0ef3afdd155f15', 'function': {'arguments': '{\"location\": \"San Francisco, CA, USA\"}', 'name': 'get_current_temperature'}, 'type': 'function'},\n",
    "        {'id': 'chatcmpl-tool-7e30313081944b11b6e5ebfd02e8e501', 'function': {'arguments': '{\"location\": \"San Francisco, CA, USA\", \"date\": \"2024-10-01\"}', 'name': 'get_temperature_date'}, 'type': 'function'},\n",
    "    ]},\n",
    "    {'role': 'tool', 'content': '{\"temperature\": 26.1, \"location\": \"San Francisco, CA, USA\", \"unit\": \"celsius\"}', 'tool_call_id': 'chatcmpl-tool-924d705adb044ff88e0ef3afdd155f15'},\n",
    "    {'role': 'tool', 'content': '{\"temperature\": 25.9, \"location\": \"San Francisco, CA, USA\", \"date\": \"2024-10-01\", \"unit\": \"celsius\"}', 'tool_call_id': 'chatcmpl-tool-7e30313081944b11b6e5ebfd02e8e501'},\n",
    "]"
   ]
  },
  {
   "cell_type": "code",
   "execution_count": null,
   "id": "d9f0774d",
   "metadata": {},
   "outputs": [],
   "source": [
    "messages = [\n",
    "    {'role': 'system', 'content': 'You are Qwen, created by Alibaba Cloud. You are a helpful assistant.\\n\\nCurrent Date: 2024-09-30'},\n",
    "    {'role': 'user', 'content': \"What's the temperature in San Francisco now? How about tomorrow?\"},\n",
    "    {'content': None, 'refusal': None, 'role': 'assistant', 'audio': None, 'function_call': None, 'tool_calls': [\n",
    "        {'id': 'chatcmpl-tool-1ddfe7ec00254f39a3a21ab5ecc6756e', 'function': {'arguments': '{\"location\": \"San Francisco, CA, USA\"}', 'name': 'get_current_temperature'}, 'type': 'function'},\n",
    "        {'id': 'chatcmpl-tool-cc553e7bf9ae401a851cf1b9d5901e72', 'function': {'arguments': '{\"location\": \"San Francisco, CA, USA\", \"date\": \"2024-10-01\"}', 'name': 'get_temperature_date'}, 'type': 'function'}\n",
    "    ]},\n",
    "    {'role': 'tool', 'content': '{\"temperature\": 26.1, \"location\": \"San Francisco, CA, USA\", \"unit\": \"celsius\"}', 'tool_call_id': 'chatcmpl-tool-1ddfe7ec00254f39a3a21ab5ecc6756e'},\n",
    "    {'role': 'tool', 'content': '{\"temperature\": 25.9, \"location\": \"San Francisco, CA, USA\", \"date\": \"2024-10-01\", \"unit\": \"celsius\"} /think', 'tool_call_id': 'chatcmpl-tool-cc553e7bf9ae401a851cf1b9d5901e72'}\n",
    "]"
   ]
  },
  {
   "cell_type": "code",
   "execution_count": null,
   "id": "9a90faa6",
   "metadata": {},
   "outputs": [],
   "source": [
    "messages.append([{'role': 'user', 'content': 'what\\'s your name'}])\n",
    "messages"
   ]
  },
  {
   "cell_type": "code",
   "execution_count": null,
   "id": "e2bed6d0-9084-4382-8807-26162803eff4",
   "metadata": {},
   "outputs": [],
   "source": [
    "response = client.chat.completions.create(\n",
    "    model=model_name,\n",
    "    messages=messages,\n",
    "    tools=tools,\n",
    "    temperature=0.7,\n",
    "    top_p=0.8,\n",
    "    max_tokens=512,\n",
    "    extra_body={\n",
    "        \"repetition_penalty\": 1.05,\n",
    "    },\n",
    ")\n",
    "\n"
   ]
  },
  {
   "cell_type": "code",
   "execution_count": null,
   "id": "7819b976-6b21-470a-a545-1abb3e63ad32",
   "metadata": {},
   "outputs": [],
   "source": [
    "messages.append(response.choices[0].message.model_dump())"
   ]
  },
  {
   "cell_type": "code",
   "execution_count": null,
   "id": "e5f26187",
   "metadata": {},
   "outputs": [],
   "source": [
    "messages"
   ]
  },
  {
   "cell_type": "code",
   "execution_count": null,
   "id": "ef57d845",
   "metadata": {},
   "outputs": [],
   "source": []
  }
 ],
 "metadata": {
  "kernelspec": {
   "display_name": "embedding",
   "language": "python",
   "name": "embedding"
  },
  "language_info": {
   "codemirror_mode": {
    "name": "ipython",
    "version": 3
   },
   "file_extension": ".py",
   "mimetype": "text/x-python",
   "name": "python",
   "nbconvert_exporter": "python",
   "pygments_lexer": "ipython3",
   "version": "3.10.14"
  }
 },
 "nbformat": 4,
 "nbformat_minor": 5
}
