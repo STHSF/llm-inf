{
 "cells": [
  {
   "cell_type": "code",
   "execution_count": 19,
   "id": "66b3ee93-e4bd-4c74-a5cd-c538804ac6b9",
   "metadata": {},
   "outputs": [],
   "source": [
    "import json\n",
    "\n",
    "from openai import OpenAI"
   ]
  },
  {
   "cell_type": "code",
   "execution_count": 2,
   "id": "aa8fefed-498e-4d23-b3c5-4c77e5cf169c",
   "metadata": {},
   "outputs": [],
   "source": [
    "def get_current_temperature(location: str, unit: str = \"celsius\"):\n",
    "    \"\"\"Get current temperature at a location.\n",
    "\n",
    "    Args:\n",
    "        location: The location to get the temperature for, in the format \"City, State, Country\".\n",
    "        unit: The unit to return the temperature in. Defaults to \"celsius\". (choices: [\"celsius\", \"fahrenheit\"])\n",
    "\n",
    "    Returns:\n",
    "        the temperature, the location, and the unit in a dict\n",
    "    \"\"\"\n",
    "    return {\n",
    "        \"temperature\": 26.1,\n",
    "        \"location\": location,\n",
    "        \"unit\": unit,\n",
    "    }\n",
    "\n",
    "\n",
    "def get_temperature_date(location: str, date: str, unit: str = \"celsius\"):\n",
    "    \"\"\"Get temperature at a location and date.\n",
    "\n",
    "    Args:\n",
    "        location: The location to get the temperature for, in the format \"City, State, Country\".\n",
    "        date: The date to get the temperature for, in the format \"Year-Month-Day\".\n",
    "        unit: The unit to return the temperature in. Defaults to \"celsius\". (choices: [\"celsius\", \"fahrenheit\"])\n",
    "\n",
    "    Returns:\n",
    "        the temperature, the location, the date and the unit in a dict\n",
    "    \"\"\"\n",
    "    return {\n",
    "        \"temperature\": 25.9,\n",
    "        \"location\": location,\n",
    "        \"date\": date,\n",
    "        \"unit\": unit,\n",
    "    }\n",
    "\n",
    "\n",
    "def get_function_by_name(name):\n",
    "    if name == \"get_current_temperature\":\n",
    "        return get_current_temperature\n",
    "    if name == \"get_temperature_date\":\n",
    "        return get_temperature_date"
   ]
  },
  {
   "cell_type": "code",
   "execution_count": 3,
   "id": "7fe48bae-5c6c-4566-bf20-ba15a4175dd9",
   "metadata": {},
   "outputs": [],
   "source": [
    "tools = [\n",
    "  {\n",
    "    \"type\": \"function\",\n",
    "    \"function\": {\n",
    "      \"name\": \"get_current_temperature\",\n",
    "      \"description\": \"Get current temperature at a location.\",\n",
    "      \"parameters\": {\n",
    "        \"type\": \"object\",\n",
    "        \"properties\": {\n",
    "          \"location\": {\n",
    "            \"type\": \"string\",\n",
    "            \"description\": \"The location to get the temperature for, in the format \\\"City, State, Country\\\".\"\n",
    "          },\n",
    "          \"unit\": {\n",
    "            \"type\": \"string\",\n",
    "            \"enum\": [\n",
    "              \"celsius\",\n",
    "              \"fahrenheit\"\n",
    "            ],\n",
    "            \"description\": \"The unit to return the temperature in. Defaults to \\\"celsius\\\".\"\n",
    "          }\n",
    "        },\n",
    "        \"required\": [\n",
    "          \"location\"\n",
    "        ]\n",
    "      }\n",
    "    }\n",
    "  },\n",
    "  {\n",
    "    \"type\": \"function\",\n",
    "    \"function\": {\n",
    "      \"name\": \"get_temperature_date\",\n",
    "      \"description\": \"Get temperature at a location and date.\",\n",
    "      \"parameters\": {\n",
    "        \"type\": \"object\",\n",
    "        \"properties\": {\n",
    "          \"location\": {\n",
    "            \"type\": \"string\",\n",
    "            \"description\": \"The location to get the temperature for, in the format \\\"City, State, Country\\\".\"\n",
    "          },\n",
    "          \"date\": {\n",
    "            \"type\": \"string\",\n",
    "            \"description\": \"The date to get the temperature for, in the format \\\"Year-Month-Day\\\".\"\n",
    "          },\n",
    "          \"unit\": {\n",
    "            \"type\": \"string\",\n",
    "            \"enum\": [\n",
    "              \"celsius\",\n",
    "              \"fahrenheit\"\n",
    "            ],\n",
    "            \"description\": \"The unit to return the temperature in. Defaults to \\\"celsius\\\".\"\n",
    "          }\n",
    "        },\n",
    "        \"required\": [\n",
    "          \"location\",\n",
    "          \"date\"\n",
    "        ]\n",
    "      }\n",
    "    }\n",
    "  }\n",
    "]"
   ]
  },
  {
   "cell_type": "code",
   "execution_count": 20,
   "id": "c2ccd616-1841-474d-a890-994b2fdfe2f0",
   "metadata": {},
   "outputs": [],
   "source": [
    "messages = [\n",
    "    {\"role\": \"system\", \"content\": \"You are Qwen, created by Alibaba Cloud. You are a helpful assistant.\\n\\nCurrent Date: 2024-09-30\"},\n",
    "    {\"role\": \"user\",  \"content\": \"What's the temperature in San Francisco now? How about tomorrow?\"}\n",
    "]\n",
    "\n",
    "messages = [\n",
    "    {\"role\": \"system\", \"content\": \"You are Qwen, created by Alibaba Cloud. You are a helpful assistant.\\n\\nCurrent Date: 2024-09-30\"},\n",
    "    {\"role\": \"user\",  \"content\": \"hello\"}\n",
    "]"
   ]
  },
  {
   "cell_type": "code",
   "execution_count": 21,
   "id": "cf530803-e5fc-4e18-b505-3c0537a6b92b",
   "metadata": {},
   "outputs": [],
   "source": [
    "functions = [tool[\"function\"] for tool in tools]\n"
   ]
  },
  {
   "cell_type": "code",
   "execution_count": 22,
   "id": "76b30117-f636-4dc9-a68c-8d7f436db757",
   "metadata": {},
   "outputs": [],
   "source": [
    "openai_api_key = \"EMPTY\"\n",
    "openai_api_base = \"http://192.168.11.37:18089/v1\"\n",
    "\n",
    "client = OpenAI(\n",
    "    api_key=openai_api_key,\n",
    "    base_url=openai_api_base,\n",
    ")\n",
    "\n",
    "model_name = \"qwen2.5-7b\""
   ]
  },
  {
   "cell_type": "code",
   "execution_count": 23,
   "id": "bf6276de-a827-4071-b3b7-288ef04d90bc",
   "metadata": {},
   "outputs": [],
   "source": [
    "response = client.chat.completions.create(\n",
    "    model=model_name,\n",
    "    messages=messages,\n",
    "    temperature=0.7,\n",
    "    top_p=0.8,\n",
    "    max_tokens=512,\n",
    "    extra_body={\n",
    "        \"repetition_penalty\": 1.05,\n",
    "    },\n",
    ")"
   ]
  },
  {
   "cell_type": "code",
   "execution_count": 24,
   "id": "f7ad7684-115c-460f-ab85-e147dce57976",
   "metadata": {},
   "outputs": [
    {
     "data": {
      "text/plain": [
       "ChatCompletionMessage(content='Hello! How can I assist you today?', refusal=None, role='assistant', audio=None, function_call=None, tool_calls=[])"
      ]
     },
     "execution_count": 24,
     "metadata": {},
     "output_type": "execute_result"
    }
   ],
   "source": [
    "response.choices[0].message"
   ]
  },
  {
   "cell_type": "code",
   "execution_count": 17,
   "id": "fe87dc6e",
   "metadata": {},
   "outputs": [],
   "source": [
    "messages.append(response.choices[0].message.model_dump())"
   ]
  },
  {
   "cell_type": "code",
   "execution_count": null,
   "id": "30336325",
   "metadata": {},
   "outputs": [],
   "source": [
    "messages"
   ]
  },
  {
   "cell_type": "code",
   "execution_count": 123,
   "id": "e9ab600c",
   "metadata": {},
   "outputs": [],
   "source": [
    "if tool_calls := response.choices[0].message.model_dump().get(\"tool_calls\", None):\n",
    "    for tool_call in tool_calls:\n",
    "        fn_name = tool_call[\"function\"][\"name\"]\n",
    "        fn_args = json.loads(tool_call[\"function\"][\"arguments\"])\n",
    "        \n",
    "        # 假设有函数库 get_function_by_name\n",
    "        fn_result = json.dumps(get_function_by_name(fn_name)(**fn_args))\n",
    "        \n",
    "        messages.append({\n",
    "            \"role\": \"tool\",\n",
    "            \"content\": fn_result,\n",
    "            \"tool_call_id\": tool_call[\"id\"]\n",
    "        })"
   ]
  },
  {
   "cell_type": "code",
   "execution_count": null,
   "id": "c5fd3251",
   "metadata": {},
   "outputs": [],
   "source": [
    "messages"
   ]
  },
  {
   "cell_type": "code",
   "execution_count": 137,
   "id": "50a5fe63-a293-4282-8bfc-b2aa2c5e4658",
   "metadata": {},
   "outputs": [],
   "source": [
    "messagess = [\n",
    "    {'role': 'system', 'content': 'You are Qwen, created by Alibaba Cloud. You are a helpful assistant.\\n\\nCurrent Date: 2024-09-30'},\n",
    "    {'role': 'user', 'content': \"What's the temperature in San Francisco now? How about tomorrow?\"},\n",
    "    {'content': None, 'role': 'assistant', 'function_call': None, 'tool_calls': [\n",
    "        {'id': 'chatcmpl-tool-924d705adb044ff88e0ef3afdd155f15', 'function': {'arguments': '{\"location\": \"San Francisco, CA, USA\"}', 'name': 'get_current_temperature'}, 'type': 'function'},\n",
    "        {'id': 'chatcmpl-tool-7e30313081944b11b6e5ebfd02e8e501', 'function': {'arguments': '{\"location\": \"San Francisco, CA, USA\", \"date\": \"2024-10-01\"}', 'name': 'get_temperature_date'}, 'type': 'function'},\n",
    "    ]},\n",
    "    {'role': 'tool', 'content': '{\"temperature\": 26.1, \"location\": \"San Francisco, CA, USA\", \"unit\": \"celsius\"}', 'tool_call_id': 'chatcmpl-tool-924d705adb044ff88e0ef3afdd155f15'},\n",
    "    {'role': 'tool', 'content': '{\"temperature\": 25.9, \"location\": \"San Francisco, CA, USA\", \"date\": \"2024-10-01\", \"unit\": \"celsius\"}', 'tool_call_id': 'chatcmpl-tool-7e30313081944b11b6e5ebfd02e8e501'},\n",
    "]"
   ]
  },
  {
   "cell_type": "code",
   "execution_count": 144,
   "id": "d9f0774d",
   "metadata": {},
   "outputs": [],
   "source": [
    "messages = [\n",
    "    {'role': 'system', 'content': 'You are Qwen, created by Alibaba Cloud. You are a helpful assistant.\\n\\nCurrent Date: 2024-09-30'},\n",
    "    {'role': 'user', 'content': \"What's the temperature in San Francisco now? How about tomorrow?\"},\n",
    "    {'content': None, 'refusal': None, 'role': 'assistant', 'audio': None, 'function_call': None, 'tool_calls': [\n",
    "        {'id': 'chatcmpl-tool-1ddfe7ec00254f39a3a21ab5ecc6756e', 'function': {'arguments': '{\"location\": \"San Francisco, CA, USA\"}', 'name': 'get_current_temperature'}, 'type': 'function'},\n",
    "        {'id': 'chatcmpl-tool-cc553e7bf9ae401a851cf1b9d5901e72', 'function': {'arguments': '{\"location\": \"San Francisco, CA, USA\", \"date\": \"2024-10-01\"}', 'name': 'get_temperature_date'}, 'type': 'function'}\n",
    "    ]},\n",
    "    {'role': 'tool', 'content': '{\"temperature\": 26.1, \"location\": \"San Francisco, CA, USA\", \"unit\": \"celsius\"}', 'tool_call_id': 'chatcmpl-tool-1ddfe7ec00254f39a3a21ab5ecc6756e'},\n",
    "    {'role': 'tool', 'content': '{\"temperature\": 25.9, \"location\": \"San Francisco, CA, USA\", \"date\": \"2024-10-01\", \"unit\": \"celsius\"}', 'tool_call_id': 'chatcmpl-tool-cc553e7bf9ae401a851cf1b9d5901e72'}\n",
    "]"
   ]
  },
  {
   "cell_type": "code",
   "execution_count": null,
   "id": "9a90faa6",
   "metadata": {},
   "outputs": [],
   "source": [
    "messages.append([{'role': 'user', 'content': 'what\\'s your name'}])\n",
    "messages"
   ]
  },
  {
   "cell_type": "code",
   "execution_count": null,
   "id": "e2bed6d0-9084-4382-8807-26162803eff4",
   "metadata": {},
   "outputs": [],
   "source": [
    "response = client.chat.completions.create(\n",
    "    model=model_name,\n",
    "    messages=messages,\n",
    "    tools=tools,\n",
    "    temperature=0.7,\n",
    "    top_p=0.8,\n",
    "    max_tokens=512,\n",
    "    extra_body={\n",
    "        \"repetition_penalty\": 1.05,\n",
    "    },\n",
    ")\n",
    "\n",
    "# messages.append(response.choices[0].message.model_dump())"
   ]
  },
  {
   "cell_type": "code",
   "execution_count": null,
   "id": "7819b976-6b21-470a-a545-1abb3e63ad32",
   "metadata": {},
   "outputs": [],
   "source": [
    "{key: value for key, value in response.choices[0].message.model_dump().items() if key != 'audio'}"
   ]
  },
  {
   "cell_type": "code",
   "execution_count": null,
   "id": "e5f26187",
   "metadata": {},
   "outputs": [],
   "source": [
    "messages"
   ]
  },
  {
   "cell_type": "code",
   "execution_count": null,
   "id": "ef57d845",
   "metadata": {},
   "outputs": [],
   "source": []
  }
 ],
 "metadata": {
  "kernelspec": {
   "display_name": "embedding",
   "language": "python",
   "name": "python3"
  },
  "language_info": {
   "codemirror_mode": {
    "name": "ipython",
    "version": 3
   },
   "file_extension": ".py",
   "mimetype": "text/x-python",
   "name": "python",
   "nbconvert_exporter": "python",
   "pygments_lexer": "ipython3",
   "version": "3.10.14"
  }
 },
 "nbformat": 4,
 "nbformat_minor": 5
}
